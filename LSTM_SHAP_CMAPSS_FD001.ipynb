{
  "cells": [
    {
      "cell_type": "markdown",
      "metadata": {
        "id": "view-in-github",
        "colab_type": "text"
      },
      "source": [
        "<a href=\"https://colab.research.google.com/github/chaoshune/cmapass/blob/main/LSTM_SHAP_CMAPSS_FD001.ipynb\" target=\"_parent\"><img src=\"https://colab.research.google.com/assets/colab-badge.svg\" alt=\"Open In Colab\"/></a>"
      ]
    },
    {
      "cell_type": "markdown",
      "id": "6d917df6",
      "metadata": {
        "id": "6d917df6"
      },
      "source": [
        "# LSTM + SHAP for C-MAPSS FD001 Dataset"
      ]
    },
    {
      "cell_type": "code",
      "execution_count": null,
      "id": "55bd7f84",
      "metadata": {
        "id": "55bd7f84"
      },
      "outputs": [],
      "source": [
        "!pip install shap tensorflow pandas scikit-learn matplotlib"
      ]
    },
    {
      "cell_type": "code",
      "execution_count": null,
      "id": "ccb4d70f",
      "metadata": {
        "id": "ccb4d70f"
      },
      "outputs": [],
      "source": [
        "\n",
        "import pandas as pd\n",
        "import numpy as np\n",
        "import shap\n",
        "import matplotlib.pyplot as plt\n",
        "from tensorflow.keras.models import Sequential\n",
        "from tensorflow.keras.layers import LSTM, Dense\n",
        "from sklearn.model_selection import train_test_split\n",
        "from sklearn.preprocessing import MinMaxScaler\n"
      ]
    },
    {
      "cell_type": "markdown",
      "id": "b333f007",
      "metadata": {
        "id": "b333f007"
      },
      "source": [
        "## Step 1: Load Data and Preprocess"
      ]
    },
    {
      "cell_type": "code",
      "source": [
        "github get /workspaces/cmapass/train_FD001.txt\n"
      ],
      "metadata": {
        "id": "sjN9y_21U4BS"
      },
      "id": "sjN9y_21U4BS",
      "execution_count": null,
      "outputs": []
    },
    {
      "cell_type": "code",
      "execution_count": null,
      "id": "cf47fd28",
      "metadata": {
        "id": "cf47fd28"
      },
      "outputs": [],
      "source": [
        "\n",
        "col_names = ['engine_id', 'cycle'] + [f'op_set_{i}' for i in range(1, 4)] + [f'sensor_{i}' for i in range(1, 22)]\n",
        "df = pd.read_csv('train_FD001.txt', sep='\\s+', header=None, names=col_names)\n",
        "\n",
        "rul = df.groupby('engine_id')['cycle'].max().reset_index()\n",
        "rul.columns = ['engine_id', 'max_cycle']\n",
        "df = df.merge(rul, on='engine_id')\n",
        "df['RUL'] = df['max_cycle'] - df['cycle']\n",
        "df.drop('max_cycle', axis=1, inplace=True)\n",
        "\n",
        "drop_cols = ['sensor_1','sensor_5','sensor_6','sensor_10','sensor_16','sensor_18','sensor_19']\n",
        "feature_cols = ['op_set_1','op_set_2','op_set_3'] + [f'sensor_{i}' for i in range(1,22) if f'sensor_{i}' not in drop_cols]\n",
        "\n",
        "scaler = MinMaxScaler()\n",
        "df[feature_cols] = scaler.fit_transform(df[feature_cols])\n"
      ]
    },
    {
      "cell_type": "markdown",
      "id": "fe014d9e",
      "metadata": {
        "id": "fe014d9e"
      },
      "source": [
        "## Step 2: Generate Sequences"
      ]
    },
    {
      "cell_type": "code",
      "execution_count": null,
      "id": "a28ba26a",
      "metadata": {
        "id": "a28ba26a"
      },
      "outputs": [],
      "source": [
        "\n",
        "def gen_sequence(id_df, seq_len, feature_cols):\n",
        "    data_array = id_df[feature_cols].values\n",
        "    return np.array([data_array[start:start + seq_len] for start in range(len(data_array) - seq_len + 1)])\n",
        "\n",
        "SEQ_LEN = 50\n",
        "seq_data, labels = [], []\n",
        "for eid in df['engine_id'].unique():\n",
        "    sub_df = df[df['engine_id'] == eid]\n",
        "    if len(sub_df) >= SEQ_LEN:\n",
        "        seqs = gen_sequence(sub_df, SEQ_LEN, feature_cols)\n",
        "        rul = sub_df['RUL'].values[SEQ_LEN - 1:]\n",
        "        seq_data.extend(seqs)\n",
        "        labels.extend(rul)\n",
        "\n",
        "X = np.array(seq_data)\n",
        "y = np.array(labels)\n"
      ]
    },
    {
      "cell_type": "markdown",
      "id": "3bb09f38",
      "metadata": {
        "id": "3bb09f38"
      },
      "source": [
        "## Step 3: Train/Test Split"
      ]
    },
    {
      "cell_type": "code",
      "execution_count": null,
      "id": "e0067d1b",
      "metadata": {
        "id": "e0067d1b"
      },
      "outputs": [],
      "source": [
        "\n",
        "X_train, X_test, y_train, y_test = train_test_split(X, y, test_size=0.2, random_state=42)\n"
      ]
    },
    {
      "cell_type": "markdown",
      "id": "fa9467d7",
      "metadata": {
        "id": "fa9467d7"
      },
      "source": [
        "## Step 4: Train LSTM Model"
      ]
    },
    {
      "cell_type": "code",
      "execution_count": null,
      "id": "6f55318a",
      "metadata": {
        "id": "6f55318a"
      },
      "outputs": [],
      "source": [
        "\n",
        "model = Sequential()\n",
        "model.add(LSTM(64, input_shape=(SEQ_LEN, X.shape[2])))\n",
        "model.add(Dense(1))\n",
        "model.compile(optimizer='adam', loss='mse')\n",
        "model.fit(X_train, y_train, epochs=10, batch_size=64)\n"
      ]
    },
    {
      "cell_type": "markdown",
      "id": "4f8f1be1",
      "metadata": {
        "id": "4f8f1be1"
      },
      "source": [
        "## Step 5: SHAP Analysis"
      ]
    },
    {
      "cell_type": "code",
      "execution_count": null,
      "id": "050694a0",
      "metadata": {
        "id": "050694a0"
      },
      "outputs": [],
      "source": [
        "\n",
        "X_train_flat = X_train.reshape(X_train.shape[0], -1)\n",
        "X_test_flat = X_test.reshape(X_test.shape[0], -1)\n",
        "\n",
        "def predict_lstm(x_flat):\n",
        "    return model.predict(x_flat.reshape(-1, SEQ_LEN, X.shape[2]), verbose=0)\n",
        "\n",
        "explainer = shap.KernelExplainer(predict_lstm, X_train_flat[:50])\n",
        "shap_values = explainer.shap_values(X_test_flat[:10])\n",
        "\n",
        "feature_names = [f\"{col}_t{t}\" for t in range(SEQ_LEN) for col in feature_cols]\n",
        "\n",
        "shap.summary_plot(shap_values, X_test_flat[:10], feature_names=feature_names)\n"
      ]
    }
  ],
  "metadata": {
    "colab": {
      "provenance": [],
      "include_colab_link": true
    }
  },
  "nbformat": 4,
  "nbformat_minor": 5
}